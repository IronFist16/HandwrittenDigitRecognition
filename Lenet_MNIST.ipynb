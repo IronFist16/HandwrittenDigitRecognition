{
 "cells": [
  {
   "cell_type": "code",
   "execution_count": 1,
   "metadata": {},
   "outputs": [
    {
     "name": "stderr",
     "output_type": "stream",
     "text": [
      "Using TensorFlow backend.\n",
      "/home/autom8-sudesh/.local/lib/python3.6/site-packages/tensorflow/python/framework/dtypes.py:526: FutureWarning: Passing (type, 1) or '1type' as a synonym of type is deprecated; in a future version of numpy, it will be understood as (type, (1,)) / '(1,)type'.\n",
      "  _np_qint8 = np.dtype([(\"qint8\", np.int8, 1)])\n",
      "/home/autom8-sudesh/.local/lib/python3.6/site-packages/tensorflow/python/framework/dtypes.py:527: FutureWarning: Passing (type, 1) or '1type' as a synonym of type is deprecated; in a future version of numpy, it will be understood as (type, (1,)) / '(1,)type'.\n",
      "  _np_quint8 = np.dtype([(\"quint8\", np.uint8, 1)])\n",
      "/home/autom8-sudesh/.local/lib/python3.6/site-packages/tensorflow/python/framework/dtypes.py:528: FutureWarning: Passing (type, 1) or '1type' as a synonym of type is deprecated; in a future version of numpy, it will be understood as (type, (1,)) / '(1,)type'.\n",
      "  _np_qint16 = np.dtype([(\"qint16\", np.int16, 1)])\n",
      "/home/autom8-sudesh/.local/lib/python3.6/site-packages/tensorflow/python/framework/dtypes.py:529: FutureWarning: Passing (type, 1) or '1type' as a synonym of type is deprecated; in a future version of numpy, it will be understood as (type, (1,)) / '(1,)type'.\n",
      "  _np_quint16 = np.dtype([(\"quint16\", np.uint16, 1)])\n",
      "/home/autom8-sudesh/.local/lib/python3.6/site-packages/tensorflow/python/framework/dtypes.py:530: FutureWarning: Passing (type, 1) or '1type' as a synonym of type is deprecated; in a future version of numpy, it will be understood as (type, (1,)) / '(1,)type'.\n",
      "  _np_qint32 = np.dtype([(\"qint32\", np.int32, 1)])\n",
      "/home/autom8-sudesh/.local/lib/python3.6/site-packages/tensorflow/python/framework/dtypes.py:535: FutureWarning: Passing (type, 1) or '1type' as a synonym of type is deprecated; in a future version of numpy, it will be understood as (type, (1,)) / '(1,)type'.\n",
      "  np_resource = np.dtype([(\"resource\", np.ubyte, 1)])\n"
     ]
    }
   ],
   "source": [
    "from pyimagesearch.nn.conv.lenet import LeNet\n",
    "\n",
    "from keras.optimizers import SGD\n",
    "from sklearn.preprocessing import LabelBinarizer\n",
    "from keras.preprocessing.image import ImageDataGenerator\n",
    "from sklearn.model_selection import train_test_split\n",
    "from sklearn.metrics import classification_report\n",
    "from sklearn import datasets\n",
    "from keras import backend as K\n",
    "import matplotlib.pyplot as plt\n",
    "import numpy as np\n",
    "from scipy.io import loadmat\n",
    "import cv2"
   ]
  },
  {
   "cell_type": "code",
   "execution_count": 2,
   "metadata": {},
   "outputs": [
    {
     "name": "stdout",
     "output_type": "stream",
     "text": [
      "[INFO] accessing MNIST...\n"
     ]
    }
   ],
   "source": [
    "print(\"[INFO] accessing MNIST...\")\n",
    "\n",
    "mnist = loadmat(\"/home/autom8-sudesh/Desktop/mnist-original.mat\")\n",
    "x = mnist['data'].T\n",
    "y = mnist['label'][0]\n",
    "\n"
   ]
  },
  {
   "cell_type": "code",
   "execution_count": 3,
   "metadata": {},
   "outputs": [],
   "source": [
    "(trainX,testX,trainY,testY) = train_test_split(x/255.0,y.astype(\"int\"),test_size=0.25,random_state=42)\n"
   ]
  },
  {
   "cell_type": "code",
   "execution_count": 4,
   "metadata": {},
   "outputs": [],
   "source": [
    "\n",
    "if K.image_data_format() == 'channels_first':\n",
    "  trainX = trainX.reshape(trainX.shape[0], 1, 28,28)\n",
    "  testX = testX.reshape(trainX.shape[0], 1, 28, 28)\n",
    "  input_shape = (1, 28, 28)\n",
    "else:\n",
    "  trainX = trainX.reshape(trainX.shape[0],28, 28, 1)\n",
    "  testX = testX.reshape(testX.shape[0],28, 28, 1)\n",
    "  input_shape = (28, 28, 1)\n",
    "\n",
    "    \n",
    "trainX = trainX.astype('float32')\n",
    "testX = testX.astype('float32')    \n",
    "\n",
    "\n",
    "le = LabelBinarizer()\n",
    "trainY=le.fit_transform(trainY)\n",
    "testY = le.fit_transform(testY)\n"
   ]
  },
  {
   "cell_type": "code",
   "execution_count": 5,
   "metadata": {},
   "outputs": [],
   "source": [
    "aug = ImageDataGenerator(rotation_range=30, width_shift_range=0.1,\n",
    "height_shift_range=0.1, shear_range=0.2, zoom_range=0.2, fill_mode=\"nearest\")"
   ]
  },
  {
   "cell_type": "code",
   "execution_count": 6,
   "metadata": {},
   "outputs": [
    {
     "name": "stdout",
     "output_type": "stream",
     "text": [
      "[INFO] compiling model....\n",
      "WARNING:tensorflow:From /home/autom8-sudesh/.local/lib/python3.6/site-packages/tensorflow/python/ops/resource_variable_ops.py:435: colocate_with (from tensorflow.python.framework.ops) is deprecated and will be removed in a future version.\n",
      "Instructions for updating:\n",
      "Colocations handled automatically by placer.\n"
     ]
    }
   ],
   "source": [
    "print(\"[INFO] compiling model....\")\n",
    "\n",
    "opt = SGD(lr=0.01)\n",
    "model=LeNet.build(width=28,height=28,depth=1,classes=10)\n",
    "model.compile(loss=\"categorical_crossentropy\",optimizer=opt,metrics=[\"accuracy\"])"
   ]
  },
  {
   "cell_type": "code",
   "execution_count": 7,
   "metadata": {},
   "outputs": [
    {
     "name": "stdout",
     "output_type": "stream",
     "text": [
      "[INFO] training network...\n",
      "WARNING:tensorflow:From /home/autom8-sudesh/.local/lib/python3.6/site-packages/tensorflow/python/ops/math_ops.py:3066: to_int32 (from tensorflow.python.ops.math_ops) is deprecated and will be removed in a future version.\n",
      "Instructions for updating:\n",
      "Use tf.cast instead.\n",
      "Epoch 1/50\n",
      "1640/1640 [==============================] - 142s 87ms/step - loss: 0.9453 - accuracy: 0.6973 - val_loss: 0.1569 - val_accuracy: 0.9567\n",
      "Epoch 2/50\n",
      "1640/1640 [==============================] - 141s 86ms/step - loss: 0.2855 - accuracy: 0.9125 - val_loss: 0.1010 - val_accuracy: 0.9697\n",
      "Epoch 3/50\n",
      "1640/1640 [==============================] - 141s 86ms/step - loss: 0.2055 - accuracy: 0.9368 - val_loss: 0.0801 - val_accuracy: 0.9749\n",
      "Epoch 4/50\n",
      "1640/1640 [==============================] - 140s 85ms/step - loss: 0.1678 - accuracy: 0.9489 - val_loss: 0.0723 - val_accuracy: 0.9790\n",
      "Epoch 5/50\n",
      "1640/1640 [==============================] - 141s 86ms/step - loss: 0.1408 - accuracy: 0.9561 - val_loss: 0.0684 - val_accuracy: 0.9795\n",
      "Epoch 6/50\n",
      "1640/1640 [==============================] - 141s 86ms/step - loss: 0.1263 - accuracy: 0.9622 - val_loss: 0.0529 - val_accuracy: 0.9838\n",
      "Epoch 7/50\n",
      "1640/1640 [==============================] - 145s 88ms/step - loss: 0.1134 - accuracy: 0.9640 - val_loss: 0.0617 - val_accuracy: 0.9815\n",
      "Epoch 8/50\n",
      "1640/1640 [==============================] - 148s 90ms/step - loss: 0.1036 - accuracy: 0.9682 - val_loss: 0.0544 - val_accuracy: 0.9830\n",
      "Epoch 9/50\n",
      "1640/1640 [==============================] - 142s 87ms/step - loss: 0.0971 - accuracy: 0.9693 - val_loss: 0.0555 - val_accuracy: 0.9833\n",
      "Epoch 10/50\n",
      "1640/1640 [==============================] - 143s 87ms/step - loss: 0.0924 - accuracy: 0.9715 - val_loss: 0.0470 - val_accuracy: 0.9855\n",
      "Epoch 11/50\n",
      "1640/1640 [==============================] - 142s 87ms/step - loss: 0.0868 - accuracy: 0.9730 - val_loss: 0.0458 - val_accuracy: 0.9851\n",
      "Epoch 12/50\n",
      "1640/1640 [==============================] - 143s 87ms/step - loss: 0.0813 - accuracy: 0.9744 - val_loss: 0.0433 - val_accuracy: 0.9863\n",
      "Epoch 13/50\n",
      "1640/1640 [==============================] - 143s 87ms/step - loss: 0.0791 - accuracy: 0.9760 - val_loss: 0.0413 - val_accuracy: 0.9875\n",
      "Epoch 14/50\n",
      "1640/1640 [==============================] - 147s 90ms/step - loss: 0.0725 - accuracy: 0.9773 - val_loss: 0.0412 - val_accuracy: 0.9878\n",
      "Epoch 15/50\n",
      "1640/1640 [==============================] - 144s 88ms/step - loss: 0.0730 - accuracy: 0.9765 - val_loss: 0.0420 - val_accuracy: 0.9866\n",
      "Epoch 16/50\n",
      "1640/1640 [==============================] - 145s 88ms/step - loss: 0.0694 - accuracy: 0.9783 - val_loss: 0.0369 - val_accuracy: 0.9884\n",
      "Epoch 17/50\n",
      "1640/1640 [==============================] - 145s 88ms/step - loss: 0.0684 - accuracy: 0.9787 - val_loss: 0.0369 - val_accuracy: 0.9893\n",
      "Epoch 18/50\n",
      "1640/1640 [==============================] - 153s 93ms/step - loss: 0.0644 - accuracy: 0.9795 - val_loss: 0.0428 - val_accuracy: 0.9866\n",
      "Epoch 19/50\n",
      "1640/1640 [==============================] - 141s 86ms/step - loss: 0.0612 - accuracy: 0.9805 - val_loss: 0.0360 - val_accuracy: 0.9892\n",
      "Epoch 20/50\n",
      "1640/1640 [==============================] - 152s 93ms/step - loss: 0.0609 - accuracy: 0.9815 - val_loss: 0.0320 - val_accuracy: 0.9898\n",
      "Epoch 21/50\n",
      "1640/1640 [==============================] - 170s 103ms/step - loss: 0.0607 - accuracy: 0.9811 - val_loss: 0.0327 - val_accuracy: 0.9903\n",
      "Epoch 22/50\n",
      "1640/1640 [==============================] - 168s 103ms/step - loss: 0.0566 - accuracy: 0.9827 - val_loss: 0.0299 - val_accuracy: 0.9909\n",
      "Epoch 23/50\n",
      "1640/1640 [==============================] - 172s 105ms/step - loss: 0.0542 - accuracy: 0.9827 - val_loss: 0.0334 - val_accuracy: 0.9894\n",
      "Epoch 24/50\n",
      "1640/1640 [==============================] - 183s 111ms/step - loss: 0.0542 - accuracy: 0.9828 - val_loss: 0.0324 - val_accuracy: 0.9909\n",
      "Epoch 25/50\n",
      "1640/1640 [==============================] - 177s 108ms/step - loss: 0.0512 - accuracy: 0.9833 - val_loss: 0.0338 - val_accuracy: 0.9895\n",
      "Epoch 26/50\n",
      "1640/1640 [==============================] - 186s 113ms/step - loss: 0.0526 - accuracy: 0.9833 - val_loss: 0.0348 - val_accuracy: 0.9899\n",
      "Epoch 27/50\n",
      "1640/1640 [==============================] - 176s 107ms/step - loss: 0.0513 - accuracy: 0.9830 - val_loss: 0.0326 - val_accuracy: 0.9905\n",
      "Epoch 28/50\n",
      "1640/1640 [==============================] - 160s 97ms/step - loss: 0.0514 - accuracy: 0.9836 - val_loss: 0.0307 - val_accuracy: 0.9913\n",
      "Epoch 29/50\n",
      "1640/1640 [==============================] - 144s 88ms/step - loss: 0.0494 - accuracy: 0.9840 - val_loss: 0.0314 - val_accuracy: 0.9906\n",
      "Epoch 30/50\n",
      "1640/1640 [==============================] - 131s 80ms/step - loss: 0.0493 - accuracy: 0.9843 - val_loss: 0.0317 - val_accuracy: 0.9891\n",
      "Epoch 31/50\n",
      "1640/1640 [==============================] - 134s 82ms/step - loss: 0.0474 - accuracy: 0.9848 - val_loss: 0.0367 - val_accuracy: 0.9894\n",
      "Epoch 32/50\n",
      "1640/1640 [==============================] - 131s 80ms/step - loss: 0.0448 - accuracy: 0.9856 - val_loss: 0.0312 - val_accuracy: 0.9912\n",
      "Epoch 33/50\n",
      "1640/1640 [==============================] - 133s 81ms/step - loss: 0.0480 - accuracy: 0.9850 - val_loss: 0.0275 - val_accuracy: 0.9921\n",
      "Epoch 34/50\n",
      "1640/1640 [==============================] - 131s 80ms/step - loss: 0.0465 - accuracy: 0.9853 - val_loss: 0.0312 - val_accuracy: 0.9909\n",
      "Epoch 35/50\n",
      "1640/1640 [==============================] - 131s 80ms/step - loss: 0.0445 - accuracy: 0.9864 - val_loss: 0.0271 - val_accuracy: 0.9917\n",
      "Epoch 36/50\n",
      "1640/1640 [==============================] - 131s 80ms/step - loss: 0.0422 - accuracy: 0.9865 - val_loss: 0.0280 - val_accuracy: 0.9922\n",
      "Epoch 37/50\n",
      "1640/1640 [==============================] - 132s 80ms/step - loss: 0.0427 - accuracy: 0.9864 - val_loss: 0.0293 - val_accuracy: 0.9919\n",
      "Epoch 38/50\n",
      "1640/1640 [==============================] - 131s 80ms/step - loss: 0.0413 - accuracy: 0.9867 - val_loss: 0.0266 - val_accuracy: 0.9921\n",
      "Epoch 39/50\n",
      "1640/1640 [==============================] - 134s 82ms/step - loss: 0.0404 - accuracy: 0.9877 - val_loss: 0.0305 - val_accuracy: 0.9905\n",
      "Epoch 40/50\n",
      "1640/1640 [==============================] - 131s 80ms/step - loss: 0.0412 - accuracy: 0.9869 - val_loss: 0.0271 - val_accuracy: 0.9921\n",
      "Epoch 41/50\n",
      "1640/1640 [==============================] - 154s 94ms/step - loss: 0.0413 - accuracy: 0.9870 - val_loss: 0.0297 - val_accuracy: 0.9914\n",
      "Epoch 42/50\n",
      "1640/1640 [==============================] - 155s 95ms/step - loss: 0.0393 - accuracy: 0.9874 - val_loss: 0.0300 - val_accuracy: 0.9916\n",
      "Epoch 43/50\n",
      "1640/1640 [==============================] - 144s 88ms/step - loss: 0.0414 - accuracy: 0.9874 - val_loss: 0.0288 - val_accuracy: 0.9918\n",
      "Epoch 44/50\n",
      "1640/1640 [==============================] - 156s 95ms/step - loss: 0.0372 - accuracy: 0.9883 - val_loss: 0.0261 - val_accuracy: 0.9926\n",
      "Epoch 45/50\n",
      "1640/1640 [==============================] - 135s 82ms/step - loss: 0.0383 - accuracy: 0.9880 - val_loss: 0.0278 - val_accuracy: 0.9918\n",
      "Epoch 46/50\n",
      "1640/1640 [==============================] - 166s 101ms/step - loss: 0.0380 - accuracy: 0.9876 - val_loss: 0.0268 - val_accuracy: 0.9921\n",
      "Epoch 47/50\n",
      "1640/1640 [==============================] - 140s 85ms/step - loss: 0.0366 - accuracy: 0.9886 - val_loss: 0.0245 - val_accuracy: 0.9930\n",
      "Epoch 48/50\n",
      "1640/1640 [==============================] - 132s 80ms/step - loss: 0.0362 - accuracy: 0.9886 - val_loss: 0.0267 - val_accuracy: 0.9922\n",
      "Epoch 49/50\n",
      "1640/1640 [==============================] - 147s 89ms/step - loss: 0.0368 - accuracy: 0.9887 - val_loss: 0.0273 - val_accuracy: 0.9915\n",
      "Epoch 50/50\n",
      "1640/1640 [==============================] - 154s 94ms/step - loss: 0.0361 - accuracy: 0.9888 - val_loss: 0.0251 - val_accuracy: 0.9926\n"
     ]
    }
   ],
   "source": [
    "print(\"[INFO] training network...\")\n",
    "\n",
    "H = model.fit_generator(aug.flow(trainX, trainY, batch_size=32),\n",
    "validation_data=(testX, testY), steps_per_epoch=len(trainX) // 32,\n",
    "epochs=50, verbose=1)\n"
   ]
  },
  {
   "cell_type": "code",
   "execution_count": 8,
   "metadata": {},
   "outputs": [
    {
     "name": "stdout",
     "output_type": "stream",
     "text": [
      "[INFO] evaluating network...\n",
      "             precision    recall  f1-score   support\n",
      "\n",
      "          0       1.00      0.99      1.00      1677\n",
      "          1       1.00      0.99      1.00      1935\n",
      "          2       0.99      1.00      0.99      1767\n",
      "          3       0.99      0.99      0.99      1766\n",
      "          4       0.98      1.00      0.99      1691\n",
      "          5       0.99      0.99      0.99      1653\n",
      "          6       0.99      0.99      0.99      1754\n",
      "          7       0.99      0.99      0.99      1846\n",
      "          8       0.99      0.99      0.99      1702\n",
      "          9       0.99      0.99      0.99      1709\n",
      "\n",
      "avg / total       0.99      0.99      0.99     17500\n",
      "\n"
     ]
    }
   ],
   "source": [
    "\n",
    "print(\"[INFO] evaluating network...\")\n",
    "predictions = model.predict(testX,batch_size=128)\n",
    "print(classification_report(testY.argmax(axis=1),predictions.argmax(axis=1),\n",
    "                            target_names=[str(x) for x in le.classes_]))\n"
   ]
  },
  {
   "cell_type": "code",
   "execution_count": 9,
   "metadata": {},
   "outputs": [],
   "source": [
    "model.save(\"MNISTMODEL2.hdf5\")"
   ]
  },
  {
   "cell_type": "code",
   "execution_count": 10,
   "metadata": {},
   "outputs": [
    {
     "ename": "ValueError",
     "evalue": "x and y must have same first dimension, but have shapes (20,) and (50,)",
     "output_type": "error",
     "traceback": [
      "\u001b[0;31m---------------------------------------------------------------------------\u001b[0m",
      "\u001b[0;31mValueError\u001b[0m                                Traceback (most recent call last)",
      "\u001b[0;32m<ipython-input-10-b2944640fcc8>\u001b[0m in \u001b[0;36m<module>\u001b[0;34m\u001b[0m\n\u001b[1;32m      1\u001b[0m \u001b[0mplt\u001b[0m\u001b[0;34m.\u001b[0m\u001b[0mstyle\u001b[0m\u001b[0;34m.\u001b[0m\u001b[0muse\u001b[0m\u001b[0;34m(\u001b[0m\u001b[0;34m\"ggplot\"\u001b[0m\u001b[0;34m)\u001b[0m\u001b[0;34m\u001b[0m\u001b[0;34m\u001b[0m\u001b[0m\n\u001b[1;32m      2\u001b[0m \u001b[0mplt\u001b[0m\u001b[0;34m.\u001b[0m\u001b[0mfigure\u001b[0m\u001b[0;34m(\u001b[0m\u001b[0;34m)\u001b[0m\u001b[0;34m\u001b[0m\u001b[0;34m\u001b[0m\u001b[0m\n\u001b[0;32m----> 3\u001b[0;31m \u001b[0mplt\u001b[0m\u001b[0;34m.\u001b[0m\u001b[0mplot\u001b[0m\u001b[0;34m(\u001b[0m\u001b[0mnp\u001b[0m\u001b[0;34m.\u001b[0m\u001b[0marange\u001b[0m\u001b[0;34m(\u001b[0m\u001b[0;36m0\u001b[0m\u001b[0;34m,\u001b[0m \u001b[0;36m20\u001b[0m\u001b[0;34m)\u001b[0m\u001b[0;34m,\u001b[0m \u001b[0mH\u001b[0m\u001b[0;34m.\u001b[0m\u001b[0mhistory\u001b[0m\u001b[0;34m[\u001b[0m\u001b[0;34m\"loss\"\u001b[0m\u001b[0;34m]\u001b[0m\u001b[0;34m,\u001b[0m \u001b[0mlabel\u001b[0m\u001b[0;34m=\u001b[0m\u001b[0;34m\"train_loss\"\u001b[0m\u001b[0;34m)\u001b[0m\u001b[0;34m\u001b[0m\u001b[0;34m\u001b[0m\u001b[0m\n\u001b[0m\u001b[1;32m      4\u001b[0m \u001b[0mplt\u001b[0m\u001b[0;34m.\u001b[0m\u001b[0mplot\u001b[0m\u001b[0;34m(\u001b[0m\u001b[0mnp\u001b[0m\u001b[0;34m.\u001b[0m\u001b[0marange\u001b[0m\u001b[0;34m(\u001b[0m\u001b[0;36m0\u001b[0m\u001b[0;34m,\u001b[0m \u001b[0;36m20\u001b[0m\u001b[0;34m)\u001b[0m\u001b[0;34m,\u001b[0m \u001b[0mH\u001b[0m\u001b[0;34m.\u001b[0m\u001b[0mhistory\u001b[0m\u001b[0;34m[\u001b[0m\u001b[0;34m\"val_loss\"\u001b[0m\u001b[0;34m]\u001b[0m\u001b[0;34m,\u001b[0m \u001b[0mlabel\u001b[0m\u001b[0;34m=\u001b[0m\u001b[0;34m\"val_loss\"\u001b[0m\u001b[0;34m)\u001b[0m\u001b[0;34m\u001b[0m\u001b[0;34m\u001b[0m\u001b[0m\n\u001b[1;32m      5\u001b[0m \u001b[0mplt\u001b[0m\u001b[0;34m.\u001b[0m\u001b[0mplot\u001b[0m\u001b[0;34m(\u001b[0m\u001b[0mnp\u001b[0m\u001b[0;34m.\u001b[0m\u001b[0marange\u001b[0m\u001b[0;34m(\u001b[0m\u001b[0;36m0\u001b[0m\u001b[0;34m,\u001b[0m \u001b[0;36m20\u001b[0m\u001b[0;34m)\u001b[0m\u001b[0;34m,\u001b[0m \u001b[0mH\u001b[0m\u001b[0;34m.\u001b[0m\u001b[0mhistory\u001b[0m\u001b[0;34m[\u001b[0m\u001b[0;34m\"accuracy\"\u001b[0m\u001b[0;34m]\u001b[0m\u001b[0;34m,\u001b[0m \u001b[0mlabel\u001b[0m\u001b[0;34m=\u001b[0m\u001b[0;34m\"train_acc\"\u001b[0m\u001b[0;34m)\u001b[0m\u001b[0;34m\u001b[0m\u001b[0;34m\u001b[0m\u001b[0m\n",
      "\u001b[0;32m~/.local/lib/python3.6/site-packages/matplotlib/pyplot.py\u001b[0m in \u001b[0;36mplot\u001b[0;34m(scalex, scaley, data, *args, **kwargs)\u001b[0m\n\u001b[1;32m   2761\u001b[0m     return gca().plot(\n\u001b[1;32m   2762\u001b[0m         *args, scalex=scalex, scaley=scaley, **({\"data\": data} if data\n\u001b[0;32m-> 2763\u001b[0;31m         is not None else {}), **kwargs)\n\u001b[0m\u001b[1;32m   2764\u001b[0m \u001b[0;34m\u001b[0m\u001b[0m\n\u001b[1;32m   2765\u001b[0m \u001b[0;34m\u001b[0m\u001b[0m\n",
      "\u001b[0;32m~/.local/lib/python3.6/site-packages/matplotlib/axes/_axes.py\u001b[0m in \u001b[0;36mplot\u001b[0;34m(self, scalex, scaley, data, *args, **kwargs)\u001b[0m\n\u001b[1;32m   1644\u001b[0m         \"\"\"\n\u001b[1;32m   1645\u001b[0m         \u001b[0mkwargs\u001b[0m \u001b[0;34m=\u001b[0m \u001b[0mcbook\u001b[0m\u001b[0;34m.\u001b[0m\u001b[0mnormalize_kwargs\u001b[0m\u001b[0;34m(\u001b[0m\u001b[0mkwargs\u001b[0m\u001b[0;34m,\u001b[0m \u001b[0mmlines\u001b[0m\u001b[0;34m.\u001b[0m\u001b[0mLine2D\u001b[0m\u001b[0;34m)\u001b[0m\u001b[0;34m\u001b[0m\u001b[0;34m\u001b[0m\u001b[0m\n\u001b[0;32m-> 1646\u001b[0;31m         \u001b[0mlines\u001b[0m \u001b[0;34m=\u001b[0m \u001b[0;34m[\u001b[0m\u001b[0;34m*\u001b[0m\u001b[0mself\u001b[0m\u001b[0;34m.\u001b[0m\u001b[0m_get_lines\u001b[0m\u001b[0;34m(\u001b[0m\u001b[0;34m*\u001b[0m\u001b[0margs\u001b[0m\u001b[0;34m,\u001b[0m \u001b[0mdata\u001b[0m\u001b[0;34m=\u001b[0m\u001b[0mdata\u001b[0m\u001b[0;34m,\u001b[0m \u001b[0;34m**\u001b[0m\u001b[0mkwargs\u001b[0m\u001b[0;34m)\u001b[0m\u001b[0;34m]\u001b[0m\u001b[0;34m\u001b[0m\u001b[0;34m\u001b[0m\u001b[0m\n\u001b[0m\u001b[1;32m   1647\u001b[0m         \u001b[0;32mfor\u001b[0m \u001b[0mline\u001b[0m \u001b[0;32min\u001b[0m \u001b[0mlines\u001b[0m\u001b[0;34m:\u001b[0m\u001b[0;34m\u001b[0m\u001b[0;34m\u001b[0m\u001b[0m\n\u001b[1;32m   1648\u001b[0m             \u001b[0mself\u001b[0m\u001b[0;34m.\u001b[0m\u001b[0madd_line\u001b[0m\u001b[0;34m(\u001b[0m\u001b[0mline\u001b[0m\u001b[0;34m)\u001b[0m\u001b[0;34m\u001b[0m\u001b[0;34m\u001b[0m\u001b[0m\n",
      "\u001b[0;32m~/.local/lib/python3.6/site-packages/matplotlib/axes/_base.py\u001b[0m in \u001b[0;36m__call__\u001b[0;34m(self, *args, **kwargs)\u001b[0m\n\u001b[1;32m    214\u001b[0m                 \u001b[0mthis\u001b[0m \u001b[0;34m+=\u001b[0m \u001b[0margs\u001b[0m\u001b[0;34m[\u001b[0m\u001b[0;36m0\u001b[0m\u001b[0;34m]\u001b[0m\u001b[0;34m,\u001b[0m\u001b[0;34m\u001b[0m\u001b[0;34m\u001b[0m\u001b[0m\n\u001b[1;32m    215\u001b[0m                 \u001b[0margs\u001b[0m \u001b[0;34m=\u001b[0m \u001b[0margs\u001b[0m\u001b[0;34m[\u001b[0m\u001b[0;36m1\u001b[0m\u001b[0;34m:\u001b[0m\u001b[0;34m]\u001b[0m\u001b[0;34m\u001b[0m\u001b[0;34m\u001b[0m\u001b[0m\n\u001b[0;32m--> 216\u001b[0;31m             \u001b[0;32myield\u001b[0m \u001b[0;32mfrom\u001b[0m \u001b[0mself\u001b[0m\u001b[0;34m.\u001b[0m\u001b[0m_plot_args\u001b[0m\u001b[0;34m(\u001b[0m\u001b[0mthis\u001b[0m\u001b[0;34m,\u001b[0m \u001b[0mkwargs\u001b[0m\u001b[0;34m)\u001b[0m\u001b[0;34m\u001b[0m\u001b[0;34m\u001b[0m\u001b[0m\n\u001b[0m\u001b[1;32m    217\u001b[0m \u001b[0;34m\u001b[0m\u001b[0m\n\u001b[1;32m    218\u001b[0m     \u001b[0;32mdef\u001b[0m \u001b[0mget_next_color\u001b[0m\u001b[0;34m(\u001b[0m\u001b[0mself\u001b[0m\u001b[0;34m)\u001b[0m\u001b[0;34m:\u001b[0m\u001b[0;34m\u001b[0m\u001b[0;34m\u001b[0m\u001b[0m\n",
      "\u001b[0;32m~/.local/lib/python3.6/site-packages/matplotlib/axes/_base.py\u001b[0m in \u001b[0;36m_plot_args\u001b[0;34m(self, tup, kwargs)\u001b[0m\n\u001b[1;32m    340\u001b[0m \u001b[0;34m\u001b[0m\u001b[0m\n\u001b[1;32m    341\u001b[0m         \u001b[0;32mif\u001b[0m \u001b[0mx\u001b[0m\u001b[0;34m.\u001b[0m\u001b[0mshape\u001b[0m\u001b[0;34m[\u001b[0m\u001b[0;36m0\u001b[0m\u001b[0;34m]\u001b[0m \u001b[0;34m!=\u001b[0m \u001b[0my\u001b[0m\u001b[0;34m.\u001b[0m\u001b[0mshape\u001b[0m\u001b[0;34m[\u001b[0m\u001b[0;36m0\u001b[0m\u001b[0;34m]\u001b[0m\u001b[0;34m:\u001b[0m\u001b[0;34m\u001b[0m\u001b[0;34m\u001b[0m\u001b[0m\n\u001b[0;32m--> 342\u001b[0;31m             raise ValueError(f\"x and y must have same first dimension, but \"\n\u001b[0m\u001b[1;32m    343\u001b[0m                              f\"have shapes {x.shape} and {y.shape}\")\n\u001b[1;32m    344\u001b[0m         \u001b[0;32mif\u001b[0m \u001b[0mx\u001b[0m\u001b[0;34m.\u001b[0m\u001b[0mndim\u001b[0m \u001b[0;34m>\u001b[0m \u001b[0;36m2\u001b[0m \u001b[0;32mor\u001b[0m \u001b[0my\u001b[0m\u001b[0;34m.\u001b[0m\u001b[0mndim\u001b[0m \u001b[0;34m>\u001b[0m \u001b[0;36m2\u001b[0m\u001b[0;34m:\u001b[0m\u001b[0;34m\u001b[0m\u001b[0;34m\u001b[0m\u001b[0m\n",
      "\u001b[0;31mValueError\u001b[0m: x and y must have same first dimension, but have shapes (20,) and (50,)"
     ]
    },
    {
     "data": {
      "image/png": "[encoded data removed]",
      "text/plain": [
       "<Figure size 432x288 with 1 Axes>"
      ]
     },
     "metadata": {},
     "output_type": "display_data"
    }
   ],
   "source": [
    "plt.style.use(\"ggplot\")\n",
    "plt.figure()\n",
    "plt.plot(np.arange(0, 20), H.history[\"loss\"], label=\"train_loss\")\n",
    "plt.plot(np.arange(0, 20), H.history[\"val_loss\"], label=\"val_loss\")\n",
    "plt.plot(np.arange(0, 20), H.history[\"accuracy\"], label=\"train_acc\")\n",
    "plt.plot(np.arange(0, 20), H.history[\"val_accuracy\"], label=\"val_acc\")\n",
    "plt.title(\"Training Loss and Accuracy\")\n",
    "plt.xlabel(\"Epoch #\")\n",
    "plt.ylabel(\"Loss/Accuracy\")\n",
    "plt.legend()\n",
    "plt.show()"
   ]
  },
  {
   "cell_type": "code",
   "execution_count": null,
   "metadata": {},
   "outputs": [],
   "source": []
  }
 ],
 "metadata": {
  "kernelspec": {
   "display_name": "Python 3",
   "language": "python",
   "name": "python3"
  },
  "language_info": {
   "codemirror_mode": {
    "name": "ipython",
    "version": 3
   },
   "file_extension": ".py",
   "mimetype": "text/x-python",
   "name": "python",
   "nbconvert_exporter": "python",
   "pygments_lexer": "ipython3",
   "version": "3.6.9"
  }
 },
 "nbformat": 4,
 "nbformat_minor": 2
}
